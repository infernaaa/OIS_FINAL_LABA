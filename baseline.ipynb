{
 "cells": [
  {
   "cell_type": "code",
   "execution_count": 2,
   "metadata": {
    "colab": {
     "base_uri": "https://localhost:8080/"
    },
    "executionInfo": {
     "elapsed": 14924,
     "status": "ok",
     "timestamp": 1688393341247,
     "user": {
      "displayName": "Leonid Miller",
      "userId": "09619655846794847790"
     },
     "user_tz": -420
    },
    "id": "tFFo2jUEFQi0",
    "outputId": "88906302-77c8-4e4f-933a-4ff0f1a79608"
   },
   "outputs": [
    {
     "name": "stdout",
     "output_type": "stream",
     "text": [
      "Collecting pendulum\n",
      "  Downloading pendulum-2.1.2.tar.gz (81 kB)\n",
      "\u001b[?25l     \u001b[90m━━━━━━━━━━━━━━━━━━━━━━━━━━━━━━━━━━━━━━━━\u001b[0m \u001b[32m0.0/81.2 kB\u001b[0m \u001b[31m?\u001b[0m eta \u001b[36m-:--:--\u001b[0m\r",
      "\u001b[2K     \u001b[90m━━━━━━━━━━━━━━━━━━━━━━━━━━━━━━━━━━━━━━━━\u001b[0m \u001b[32m81.2/81.2 kB\u001b[0m \u001b[31m3.1 MB/s\u001b[0m eta \u001b[36m0:00:00\u001b[0m\n",
      "\u001b[?25h  Installing build dependencies ... \u001b[?25l\u001b[?25hdone\n",
      "  Getting requirements to build wheel ... \u001b[?25l\u001b[?25hdone\n",
      "  Preparing metadata (pyproject.toml) ... \u001b[?25l\u001b[?25hdone\n",
      "Requirement already satisfied: python-dateutil<3.0,>=2.6 in /usr/local/lib/python3.10/dist-packages (from pendulum) (2.8.2)\n",
      "Collecting pytzdata>=2020.1 (from pendulum)\n",
      "  Downloading pytzdata-2020.1-py2.py3-none-any.whl (489 kB)\n",
      "\u001b[2K     \u001b[90m━━━━━━━━━━━━━━━━━━━━━━━━━━━━━━━━━━━━━━\u001b[0m \u001b[32m490.0/490.0 kB\u001b[0m \u001b[31m11.3 MB/s\u001b[0m eta \u001b[36m0:00:00\u001b[0m\n",
      "\u001b[?25hRequirement already satisfied: six>=1.5 in /usr/local/lib/python3.10/dist-packages (from python-dateutil<3.0,>=2.6->pendulum) (1.16.0)\n",
      "Building wheels for collected packages: pendulum\n",
      "  Building wheel for pendulum (pyproject.toml) ... \u001b[?25l\u001b[?25hdone\n",
      "  Created wheel for pendulum: filename=pendulum-2.1.2-cp310-cp310-manylinux_2_31_x86_64.whl size=168883 sha256=c3878ec9d85bbc11d995f3c385277307c860c18769227bb74bb23463cf2a4601\n",
      "  Stored in directory: /root/.cache/pip/wheels/2e/41/ed/f113e4c9dc10f6c846d69f412e9cd9aa429960a3e2e485a4f9\n",
      "Successfully built pendulum\n",
      "Installing collected packages: pytzdata, pendulum\n",
      "Successfully installed pendulum-2.1.2 pytzdata-2020.1\n"
     ]
    }
   ],
   "source": [
    "!pip install pendulum\n",
    "import pendulum"
   ]
  },
  {
   "cell_type": "markdown",
   "metadata": {
    "id": "_YECVfZidhSD"
   },
   "source": [
    "# **Подготовка проекта**\n",
    "В данном разделе описана подготовка проекта как на Google Colab так и на личном компьютере.\n",
    "## ***Установка вирутального окружения***\n",
    "Установка виртуального окружения для **Google Colab** не нужно. Установка вирутального окружения на личный комьютер требует открытия командной строки в корне проекта и создании и запуска самого вирутального окружения по [гайду](https://docs.python.org/3/library/venv.html).\n",
    "## ***Установка зависимостей***\n",
    "Для установки зависимостей в **Google Colab** единственное, что от вас необходимо это доустановить ***ipyplot*** в Colab через соответсвующий бокс с комментарием `# for google colab only`. Для установки на личный компьютер в корне проекта есть файл ***requirements.txt***, который вам необходим для установки всех нужных бибилиотек в ваше **виртуальное окружение**. Установить все зааввисимости разом можно с помощью команды `pip install -r /path/to/requirements.txt`."
   ]
  },
  {
   "cell_type": "code",
   "execution_count": null,
   "metadata": {
    "id": "Bf0_Q3GXrWae"
   },
   "outputs": [],
   "source": [
    "# for google colab only\n",
    "# Если не работаете в google colab данный блок нужно пропустить или закомментировать\n",
    "!pip install -qqq ipyplot"
   ]
  },
  {
   "cell_type": "code",
   "execution_count": null,
   "metadata": {
    "id": "lKRkPzH3riZ0"
   },
   "outputs": [],
   "source": [
    "import os\n",
    "from pathlib import Path\n",
    "import numpy as np\n",
    "import pandas as pd\n",
    "from ipyplot import plot_images\n",
    "import glob\n",
    "import cv2\n",
    "import torch\n",
    "from tqdm import tqdm\n",
    "import tensorflow as tf\n",
    "from tensorflow.keras.models import Sequential\n",
    "from tensorflow.keras.layers import Conv2D, MaxPooling2D, Dense, Flatten, Dropout, AveragePooling2D\n",
    "from keras.callbacks import EarlyStopping, ModelCheckpoint\n",
    "from sklearn.metrics import roc_auc_score\n",
    "from sklearn.model_selection import train_test_split\n",
    "import matplotlib.pyplot as plt\n"
   ]
  },
  {
   "cell_type": "code",
   "execution_count": null,
   "metadata": {
    "colab": {
     "base_uri": "https://localhost:8080/"
    },
    "executionInfo": {
     "elapsed": 18,
     "status": "ok",
     "timestamp": 1679378228429,
     "user": {
      "displayName": "Leonid Miller",
      "userId": "09619655846794847790"
     },
     "user_tz": -420
    },
    "id": "0mNTp0qWro9s",
    "outputId": "ac0cd8fd-9003-45d1-cf70-4c3b9d0549ad"
   },
   "outputs": [
    {
     "name": "stdout",
     "output_type": "stream",
     "text": [
      "project_path=PosixPath('/content')\n"
     ]
    }
   ],
   "source": [
    "project_path = Path.cwd()\n",
    "print(f'{project_path=}')"
   ]
  },
  {
   "cell_type": "code",
   "execution_count": null,
   "metadata": {
    "colab": {
     "base_uri": "https://localhost:8080/"
    },
    "executionInfo": {
     "elapsed": 2611,
     "status": "ok",
     "timestamp": 1679378231027,
     "user": {
      "displayName": "Leonid Miller",
      "userId": "09619655846794847790"
     },
     "user_tz": -420
    },
    "id": "brSVS05gh1uT",
    "outputId": "5434577d-d22b-4aaf-e3ec-bd8b65427314"
   },
   "outputs": [
    {
     "name": "stdout",
     "output_type": "stream",
     "text": [
      "Drive already mounted at /content/drive; to attempt to forcibly remount, call drive.mount(\"/content/drive\", force_remount=True).\n",
      "project_path=PosixPath('/content/drive/MyDrive/ИСИТ11')\n"
     ]
    }
   ],
   "source": [
    "# for google colab only\n",
    "# Если не работаете в google colab данный блок нужно пропустить или закомментировать\n",
    "from google.colab import drive\n",
    "drive.mount('/content/drive')\n",
    "# Если исспользуете colab нужно будет ввести путь вручную\n",
    "project_path = Path('/content/drive/MyDrive/ИСИТ11')\n",
    "print(f'{project_path=}')"
   ]
  },
  {
   "cell_type": "markdown",
   "metadata": {
    "id": "TXsOGZWJiFRj"
   },
   "source": [
    "# **Подготовка данных**\n",
    "В данном разделе описана подготовка обучающей и тестовой выборки. Каждая из выборок имеет внутри себя папку с фотографиями и файл ***csv*** для сверки классификации.\n"
   ]
  },
  {
   "cell_type": "markdown",
   "metadata": {
    "id": "3GZlRvyLix6V"
   },
   "source": [
    "## ***Подготовка обучающей выборки***\n",
    "Для обучения нейронной сети нам необходимо дать для нее обучающую выборку. В данном разделе мы выделим несколько **DataFrame**`ов в табличном представлении."
   ]
  },
  {
   "cell_type": "code",
   "execution_count": null,
   "metadata": {
    "colab": {
     "base_uri": "https://localhost:8080/",
     "height": 442
    },
    "executionInfo": {
     "elapsed": 49,
     "status": "ok",
     "timestamp": 1679378231028,
     "user": {
      "displayName": "Leonid Miller",
      "userId": "09619655846794847790"
     },
     "user_tz": -420
    },
    "id": "iKwXxerCs5Pg",
    "outputId": "8fdba286-22e4-4e97-8a31-eedad22ffd8e"
   },
   "outputs": [
    {
     "name": "stdout",
     "output_type": "stream",
     "text": [
      "2131\n"
     ]
    },
    {
     "data": {
      "text/html": [
       "\n",
       "  <div id=\"df-5dbd9588-2c70-4b70-9c6a-661153c4cf8d\">\n",
       "    <div class=\"colab-df-container\">\n",
       "      <div>\n",
       "<style scoped>\n",
       "    .dataframe tbody tr th:only-of-type {\n",
       "        vertical-align: middle;\n",
       "    }\n",
       "\n",
       "    .dataframe tbody tr th {\n",
       "        vertical-align: top;\n",
       "    }\n",
       "\n",
       "    .dataframe thead th {\n",
       "        text-align: right;\n",
       "    }\n",
       "</style>\n",
       "<table border=\"1\" class=\"dataframe\">\n",
       "  <thead>\n",
       "    <tr style=\"text-align: right;\">\n",
       "      <th></th>\n",
       "      <th>filename</th>\n",
       "      <th>blur</th>\n",
       "    </tr>\n",
       "  </thead>\n",
       "  <tbody>\n",
       "    <tr>\n",
       "      <th>0</th>\n",
       "      <td>kagouracdzwrjjxzzedi.jpg</td>\n",
       "      <td>0.0</td>\n",
       "    </tr>\n",
       "    <tr>\n",
       "      <th>1</th>\n",
       "      <td>ahnamimqdfqoqdnozabc.jpg</td>\n",
       "      <td>0.0</td>\n",
       "    </tr>\n",
       "    <tr>\n",
       "      <th>2</th>\n",
       "      <td>gwhdadvghuzinmzhzssx.jpg</td>\n",
       "      <td>0.0</td>\n",
       "    </tr>\n",
       "    <tr>\n",
       "      <th>3</th>\n",
       "      <td>onqwabwwckubrydgbzly.jpg</td>\n",
       "      <td>0.0</td>\n",
       "    </tr>\n",
       "    <tr>\n",
       "      <th>4</th>\n",
       "      <td>ewpqdruddbokqyzzupcw.jpg</td>\n",
       "      <td>1.0</td>\n",
       "    </tr>\n",
       "    <tr>\n",
       "      <th>...</th>\n",
       "      <td>...</td>\n",
       "      <td>...</td>\n",
       "    </tr>\n",
       "    <tr>\n",
       "      <th>2126</th>\n",
       "      <td>uiapikbqzjeqnqwppsat.jpg</td>\n",
       "      <td>1.0</td>\n",
       "    </tr>\n",
       "    <tr>\n",
       "      <th>2127</th>\n",
       "      <td>usmpqmpgqaqkixiyxotp.jpg</td>\n",
       "      <td>1.0</td>\n",
       "    </tr>\n",
       "    <tr>\n",
       "      <th>2128</th>\n",
       "      <td>qwgctjomdbtvcwmwbasj.jpg</td>\n",
       "      <td>1.0</td>\n",
       "    </tr>\n",
       "    <tr>\n",
       "      <th>2129</th>\n",
       "      <td>egyieadlchhkrykqanwz.jpg</td>\n",
       "      <td>0.0</td>\n",
       "    </tr>\n",
       "    <tr>\n",
       "      <th>2130</th>\n",
       "      <td>vvihntfpjyqtakmxolwv.jpg</td>\n",
       "      <td>1.0</td>\n",
       "    </tr>\n",
       "  </tbody>\n",
       "</table>\n",
       "<p>2131 rows × 2 columns</p>\n",
       "</div>\n",
       "      <button class=\"colab-df-convert\" onclick=\"convertToInteractive('df-5dbd9588-2c70-4b70-9c6a-661153c4cf8d')\"\n",
       "              title=\"Convert this dataframe to an interactive table.\"\n",
       "              style=\"display:none;\">\n",
       "        \n",
       "  <svg xmlns=\"http://www.w3.org/2000/svg\" height=\"24px\"viewBox=\"0 0 24 24\"\n",
       "       width=\"24px\">\n",
       "    <path d=\"M0 0h24v24H0V0z\" fill=\"none\"/>\n",
       "    <path d=\"M18.56 5.44l.94 2.06.94-2.06 2.06-.94-2.06-.94-.94-2.06-.94 2.06-2.06.94zm-11 1L8.5 8.5l.94-2.06 2.06-.94-2.06-.94L8.5 2.5l-.94 2.06-2.06.94zm10 10l.94 2.06.94-2.06 2.06-.94-2.06-.94-.94-2.06-.94 2.06-2.06.94z\"/><path d=\"M17.41 7.96l-1.37-1.37c-.4-.4-.92-.59-1.43-.59-.52 0-1.04.2-1.43.59L10.3 9.45l-7.72 7.72c-.78.78-.78 2.05 0 2.83L4 21.41c.39.39.9.59 1.41.59.51 0 1.02-.2 1.41-.59l7.78-7.78 2.81-2.81c.8-.78.8-2.07 0-2.86zM5.41 20L4 18.59l7.72-7.72 1.47 1.35L5.41 20z\"/>\n",
       "  </svg>\n",
       "      </button>\n",
       "      \n",
       "  <style>\n",
       "    .colab-df-container {\n",
       "      display:flex;\n",
       "      flex-wrap:wrap;\n",
       "      gap: 12px;\n",
       "    }\n",
       "\n",
       "    .colab-df-convert {\n",
       "      background-color: #E8F0FE;\n",
       "      border: none;\n",
       "      border-radius: 50%;\n",
       "      cursor: pointer;\n",
       "      display: none;\n",
       "      fill: #1967D2;\n",
       "      height: 32px;\n",
       "      padding: 0 0 0 0;\n",
       "      width: 32px;\n",
       "    }\n",
       "\n",
       "    .colab-df-convert:hover {\n",
       "      background-color: #E2EBFA;\n",
       "      box-shadow: 0px 1px 2px rgba(60, 64, 67, 0.3), 0px 1px 3px 1px rgba(60, 64, 67, 0.15);\n",
       "      fill: #174EA6;\n",
       "    }\n",
       "\n",
       "    [theme=dark] .colab-df-convert {\n",
       "      background-color: #3B4455;\n",
       "      fill: #D2E3FC;\n",
       "    }\n",
       "\n",
       "    [theme=dark] .colab-df-convert:hover {\n",
       "      background-color: #434B5C;\n",
       "      box-shadow: 0px 1px 3px 1px rgba(0, 0, 0, 0.15);\n",
       "      filter: drop-shadow(0px 1px 2px rgba(0, 0, 0, 0.3));\n",
       "      fill: #FFFFFF;\n",
       "    }\n",
       "  </style>\n",
       "\n",
       "      <script>\n",
       "        const buttonEl =\n",
       "          document.querySelector('#df-5dbd9588-2c70-4b70-9c6a-661153c4cf8d button.colab-df-convert');\n",
       "        buttonEl.style.display =\n",
       "          google.colab.kernel.accessAllowed ? 'block' : 'none';\n",
       "\n",
       "        async function convertToInteractive(key) {\n",
       "          const element = document.querySelector('#df-5dbd9588-2c70-4b70-9c6a-661153c4cf8d');\n",
       "          const dataTable =\n",
       "            await google.colab.kernel.invokeFunction('convertToInteractive',\n",
       "                                                     [key], {});\n",
       "          if (!dataTable) return;\n",
       "\n",
       "          const docLinkHtml = 'Like what you see? Visit the ' +\n",
       "            '<a target=\"_blank\" href=https://colab.research.google.com/notebooks/data_table.ipynb>data table notebook</a>'\n",
       "            + ' to learn more about interactive tables.';\n",
       "          element.innerHTML = '';\n",
       "          dataTable['output_type'] = 'display_data';\n",
       "          await google.colab.output.renderOutput(dataTable, element);\n",
       "          const docLink = document.createElement('div');\n",
       "          docLink.innerHTML = docLinkHtml;\n",
       "          element.appendChild(docLink);\n",
       "        }\n",
       "      </script>\n",
       "    </div>\n",
       "  </div>\n",
       "  "
      ],
      "text/plain": [
       "                      filename  blur\n",
       "0     kagouracdzwrjjxzzedi.jpg   0.0\n",
       "1     ahnamimqdfqoqdnozabc.jpg   0.0\n",
       "2     gwhdadvghuzinmzhzssx.jpg   0.0\n",
       "3     onqwabwwckubrydgbzly.jpg   0.0\n",
       "4     ewpqdruddbokqyzzupcw.jpg   1.0\n",
       "...                        ...   ...\n",
       "2126  uiapikbqzjeqnqwppsat.jpg   1.0\n",
       "2127  usmpqmpgqaqkixiyxotp.jpg   1.0\n",
       "2128  qwgctjomdbtvcwmwbasj.jpg   1.0\n",
       "2129  egyieadlchhkrykqanwz.jpg   0.0\n",
       "2130  vvihntfpjyqtakmxolwv.jpg   1.0\n",
       "\n",
       "[2131 rows x 2 columns]"
      ]
     },
     "execution_count": 38,
     "metadata": {},
     "output_type": "execute_result"
    }
   ],
   "source": [
    "train_path = project_path / 'train'\n",
    "df_raw_train = pd.read_csv(train_path / 'train.csv')\n",
    "print(len(df_raw_train))\n",
    "df_raw_train"
   ]
  },
  {
   "cell_type": "code",
   "execution_count": null,
   "metadata": {
    "colab": {
     "base_uri": "https://localhost:8080/",
     "height": 206
    },
    "executionInfo": {
     "elapsed": 46,
     "status": "ok",
     "timestamp": 1679378231029,
     "user": {
      "displayName": "Leonid Miller",
      "userId": "09619655846794847790"
     },
     "user_tz": -420
    },
    "id": "QqDyDfkDx-cL",
    "outputId": "4b78dab2-db66-40d7-f82a-3cbeb3094bea"
   },
   "outputs": [
    {
     "data": {
      "text/html": [
       "\n",
       "  <div id=\"df-46d16fef-5bb7-4be7-98f7-ba2be3ecd255\">\n",
       "    <div class=\"colab-df-container\">\n",
       "      <div>\n",
       "<style scoped>\n",
       "    .dataframe tbody tr th:only-of-type {\n",
       "        vertical-align: middle;\n",
       "    }\n",
       "\n",
       "    .dataframe tbody tr th {\n",
       "        vertical-align: top;\n",
       "    }\n",
       "\n",
       "    .dataframe thead th {\n",
       "        text-align: right;\n",
       "    }\n",
       "</style>\n",
       "<table border=\"1\" class=\"dataframe\">\n",
       "  <thead>\n",
       "    <tr style=\"text-align: right;\">\n",
       "      <th></th>\n",
       "      <th>filename</th>\n",
       "      <th>blur</th>\n",
       "    </tr>\n",
       "  </thead>\n",
       "  <tbody>\n",
       "    <tr>\n",
       "      <th>0</th>\n",
       "      <td>/content/drive/MyDrive/ИСИТ11/train/train/kago...</td>\n",
       "      <td>0.0</td>\n",
       "    </tr>\n",
       "    <tr>\n",
       "      <th>1</th>\n",
       "      <td>/content/drive/MyDrive/ИСИТ11/train/train/ahna...</td>\n",
       "      <td>0.0</td>\n",
       "    </tr>\n",
       "    <tr>\n",
       "      <th>2</th>\n",
       "      <td>/content/drive/MyDrive/ИСИТ11/train/train/gwhd...</td>\n",
       "      <td>0.0</td>\n",
       "    </tr>\n",
       "    <tr>\n",
       "      <th>3</th>\n",
       "      <td>/content/drive/MyDrive/ИСИТ11/train/train/onqw...</td>\n",
       "      <td>0.0</td>\n",
       "    </tr>\n",
       "    <tr>\n",
       "      <th>4</th>\n",
       "      <td>/content/drive/MyDrive/ИСИТ11/train/train/ewpq...</td>\n",
       "      <td>1.0</td>\n",
       "    </tr>\n",
       "  </tbody>\n",
       "</table>\n",
       "</div>\n",
       "      <button class=\"colab-df-convert\" onclick=\"convertToInteractive('df-46d16fef-5bb7-4be7-98f7-ba2be3ecd255')\"\n",
       "              title=\"Convert this dataframe to an interactive table.\"\n",
       "              style=\"display:none;\">\n",
       "        \n",
       "  <svg xmlns=\"http://www.w3.org/2000/svg\" height=\"24px\"viewBox=\"0 0 24 24\"\n",
       "       width=\"24px\">\n",
       "    <path d=\"M0 0h24v24H0V0z\" fill=\"none\"/>\n",
       "    <path d=\"M18.56 5.44l.94 2.06.94-2.06 2.06-.94-2.06-.94-.94-2.06-.94 2.06-2.06.94zm-11 1L8.5 8.5l.94-2.06 2.06-.94-2.06-.94L8.5 2.5l-.94 2.06-2.06.94zm10 10l.94 2.06.94-2.06 2.06-.94-2.06-.94-.94-2.06-.94 2.06-2.06.94z\"/><path d=\"M17.41 7.96l-1.37-1.37c-.4-.4-.92-.59-1.43-.59-.52 0-1.04.2-1.43.59L10.3 9.45l-7.72 7.72c-.78.78-.78 2.05 0 2.83L4 21.41c.39.39.9.59 1.41.59.51 0 1.02-.2 1.41-.59l7.78-7.78 2.81-2.81c.8-.78.8-2.07 0-2.86zM5.41 20L4 18.59l7.72-7.72 1.47 1.35L5.41 20z\"/>\n",
       "  </svg>\n",
       "      </button>\n",
       "      \n",
       "  <style>\n",
       "    .colab-df-container {\n",
       "      display:flex;\n",
       "      flex-wrap:wrap;\n",
       "      gap: 12px;\n",
       "    }\n",
       "\n",
       "    .colab-df-convert {\n",
       "      background-color: #E8F0FE;\n",
       "      border: none;\n",
       "      border-radius: 50%;\n",
       "      cursor: pointer;\n",
       "      display: none;\n",
       "      fill: #1967D2;\n",
       "      height: 32px;\n",
       "      padding: 0 0 0 0;\n",
       "      width: 32px;\n",
       "    }\n",
       "\n",
       "    .colab-df-convert:hover {\n",
       "      background-color: #E2EBFA;\n",
       "      box-shadow: 0px 1px 2px rgba(60, 64, 67, 0.3), 0px 1px 3px 1px rgba(60, 64, 67, 0.15);\n",
       "      fill: #174EA6;\n",
       "    }\n",
       "\n",
       "    [theme=dark] .colab-df-convert {\n",
       "      background-color: #3B4455;\n",
       "      fill: #D2E3FC;\n",
       "    }\n",
       "\n",
       "    [theme=dark] .colab-df-convert:hover {\n",
       "      background-color: #434B5C;\n",
       "      box-shadow: 0px 1px 3px 1px rgba(0, 0, 0, 0.15);\n",
       "      filter: drop-shadow(0px 1px 2px rgba(0, 0, 0, 0.3));\n",
       "      fill: #FFFFFF;\n",
       "    }\n",
       "  </style>\n",
       "\n",
       "      <script>\n",
       "        const buttonEl =\n",
       "          document.querySelector('#df-46d16fef-5bb7-4be7-98f7-ba2be3ecd255 button.colab-df-convert');\n",
       "        buttonEl.style.display =\n",
       "          google.colab.kernel.accessAllowed ? 'block' : 'none';\n",
       "\n",
       "        async function convertToInteractive(key) {\n",
       "          const element = document.querySelector('#df-46d16fef-5bb7-4be7-98f7-ba2be3ecd255');\n",
       "          const dataTable =\n",
       "            await google.colab.kernel.invokeFunction('convertToInteractive',\n",
       "                                                     [key], {});\n",
       "          if (!dataTable) return;\n",
       "\n",
       "          const docLinkHtml = 'Like what you see? Visit the ' +\n",
       "            '<a target=\"_blank\" href=https://colab.research.google.com/notebooks/data_table.ipynb>data table notebook</a>'\n",
       "            + ' to learn more about interactive tables.';\n",
       "          element.innerHTML = '';\n",
       "          dataTable['output_type'] = 'display_data';\n",
       "          await google.colab.output.renderOutput(dataTable, element);\n",
       "          const docLink = document.createElement('div');\n",
       "          docLink.innerHTML = docLinkHtml;\n",
       "          element.appendChild(docLink);\n",
       "        }\n",
       "      </script>\n",
       "    </div>\n",
       "  </div>\n",
       "  "
      ],
      "text/plain": [
       "                                            filename  blur\n",
       "0  /content/drive/MyDrive/ИСИТ11/train/train/kago...   0.0\n",
       "1  /content/drive/MyDrive/ИСИТ11/train/train/ahna...   0.0\n",
       "2  /content/drive/MyDrive/ИСИТ11/train/train/gwhd...   0.0\n",
       "3  /content/drive/MyDrive/ИСИТ11/train/train/onqw...   0.0\n",
       "4  /content/drive/MyDrive/ИСИТ11/train/train/ewpq...   1.0"
      ]
     },
     "execution_count": 39,
     "metadata": {},
     "output_type": "execute_result"
    }
   ],
   "source": [
    "df_train = df_raw_train.copy()\n",
    "df_train['filename'] = df_train['filename'].apply(lambda x: str(train_path.absolute()) + '/train/' + x)\n",
    "df_train.head()"
   ]
  },
  {
   "cell_type": "code",
   "execution_count": null,
   "metadata": {
    "colab": {
     "base_uri": "https://localhost:8080/"
    },
    "executionInfo": {
     "elapsed": 46,
     "status": "ok",
     "timestamp": 1679378231030,
     "user": {
      "displayName": "Leonid Miller",
      "userId": "09619655846794847790"
     },
     "user_tz": -420
    },
    "id": "eZzg3jKL0M3h",
    "outputId": "6b4eb93e-c089-4a6b-edbc-d3af1d8ad934"
   },
   "outputs": [
    {
     "name": "stdout",
     "output_type": "stream",
     "text": [
      "blur images: 1037\n",
      "sharp images: 1094\n"
     ]
    }
   ],
   "source": [
    "train_blur = df_train[df_train[\"blur\"]==1]\n",
    "train_sharp = df_train[df_train[\"blur\"]==0]\n",
    "\n",
    "print(\"blur images:\", len(train_blur))\n",
    "print(\"sharp images:\", len(train_sharp))"
   ]
  },
  {
   "cell_type": "markdown",
   "metadata": {
    "id": "RHOKLD1Mj7Gn"
   },
   "source": [
    "### ***Просмотр обучающей выборки***\n",
    "В данных блоках вы можете посмотреть несколько **четких** и несколько **размытых** фотографий *соответсвенно*."
   ]
  },
  {
   "cell_type": "code",
   "execution_count": null,
   "metadata": {
    "colab": {
     "base_uri": "https://localhost:8080/",
     "height": 375,
     "output_embedded_package_id": "1r1RF2Gw65tvDixd53gi7qHRU0UJsg_L1"
    },
    "executionInfo": {
     "elapsed": 18094,
     "status": "ok",
     "timestamp": 1679378249080,
     "user": {
      "displayName": "Leonid Miller",
      "userId": "09619655846794847790"
     },
     "user_tz": -420
    },
    "id": "Pcp6iIF80RpD",
    "outputId": "cc06eee7-77ce-465d-cc5f-56242dffaee1"
   },
   "outputs": [
    {
     "data": {
      "text/plain": [
       "Output hidden; open in https://colab.research.google.com to view."
      ]
     },
     "metadata": {},
     "output_type": "display_data"
    }
   ],
   "source": [
    "images = train_sharp.filename.sample(6).tolist()\n",
    "print(images)\n",
    "plot_images(images, max_images=10,img_width=220,force_b64=True)"
   ]
  },
  {
   "cell_type": "code",
   "execution_count": null,
   "metadata": {
    "colab": {
     "base_uri": "https://localhost:8080/",
     "height": 337,
     "output_embedded_package_id": "1FX5uxTP1G2ET68yb4Zs1xiYOooYq4-t3"
    },
    "executionInfo": {
     "elapsed": 146,
     "status": "ok",
     "timestamp": 1679378249081,
     "user": {
      "displayName": "Leonid Miller",
      "userId": "09619655846794847790"
     },
     "user_tz": -420
    },
    "id": "o2HfAHuE0TgZ",
    "outputId": "a8783de9-465c-4b44-8e3b-dc0cc5a4277a"
   },
   "outputs": [
    {
     "data": {
      "text/plain": [
       "Output hidden; open in https://colab.research.google.com to view."
      ]
     },
     "metadata": {},
     "output_type": "display_data"
    }
   ],
   "source": [
    "images = train_blur.filename.sample(6).tolist()\n",
    "plot_images(images,max_images=10,img_width=220,force_b64=True)"
   ]
  },
  {
   "cell_type": "markdown",
   "metadata": {
    "id": "BlDGZAc3kaAO"
   },
   "source": [
    "## ***Подготовка тестовой выборки***\n",
    "Для сверки результатов нейронной сети нам необходима тестовая выборка. В данном разделе мы выделим несколько **DataFrame**`ов в табличном представлении."
   ]
  },
  {
   "cell_type": "code",
   "execution_count": null,
   "metadata": {
    "colab": {
     "base_uri": "https://localhost:8080/",
     "height": 442
    },
    "executionInfo": {
     "elapsed": 98,
     "status": "ok",
     "timestamp": 1679378249082,
     "user": {
      "displayName": "Leonid Miller",
      "userId": "09619655846794847790"
     },
     "user_tz": -420
    },
    "id": "QADxs1mbypXt",
    "outputId": "6f4823b6-fd99-4317-d725-57da88fba7b2"
   },
   "outputs": [
    {
     "name": "stdout",
     "output_type": "stream",
     "text": [
      "533\n"
     ]
    },
    {
     "data": {
      "text/html": [
       "\n",
       "  <div id=\"df-fa7d9227-8459-48a4-bc24-9ba22bd9d601\">\n",
       "    <div class=\"colab-df-container\">\n",
       "      <div>\n",
       "<style scoped>\n",
       "    .dataframe tbody tr th:only-of-type {\n",
       "        vertical-align: middle;\n",
       "    }\n",
       "\n",
       "    .dataframe tbody tr th {\n",
       "        vertical-align: top;\n",
       "    }\n",
       "\n",
       "    .dataframe thead th {\n",
       "        text-align: right;\n",
       "    }\n",
       "</style>\n",
       "<table border=\"1\" class=\"dataframe\">\n",
       "  <thead>\n",
       "    <tr style=\"text-align: right;\">\n",
       "      <th></th>\n",
       "      <th>filename</th>\n",
       "      <th>blur</th>\n",
       "    </tr>\n",
       "  </thead>\n",
       "  <tbody>\n",
       "    <tr>\n",
       "      <th>0</th>\n",
       "      <td>ejjtvrhazazshfpuxiga.jpg</td>\n",
       "      <td>1.0</td>\n",
       "    </tr>\n",
       "    <tr>\n",
       "      <th>1</th>\n",
       "      <td>fvrwriifmwpoghyonqiq.jpg</td>\n",
       "      <td>1.0</td>\n",
       "    </tr>\n",
       "    <tr>\n",
       "      <th>2</th>\n",
       "      <td>qgeppailqsbyreabuabq.jpg</td>\n",
       "      <td>0.0</td>\n",
       "    </tr>\n",
       "    <tr>\n",
       "      <th>3</th>\n",
       "      <td>ohhepvgvfzbwlzunyleb.jpg</td>\n",
       "      <td>1.0</td>\n",
       "    </tr>\n",
       "    <tr>\n",
       "      <th>4</th>\n",
       "      <td>runzfbzjtsrencjrfztc.jpg</td>\n",
       "      <td>1.0</td>\n",
       "    </tr>\n",
       "    <tr>\n",
       "      <th>...</th>\n",
       "      <td>...</td>\n",
       "      <td>...</td>\n",
       "    </tr>\n",
       "    <tr>\n",
       "      <th>528</th>\n",
       "      <td>ekzzbhgxpjkbsxtxlbnc.jpg</td>\n",
       "      <td>0.0</td>\n",
       "    </tr>\n",
       "    <tr>\n",
       "      <th>529</th>\n",
       "      <td>meipbfwdswjbsrqgvavf.jpg</td>\n",
       "      <td>0.0</td>\n",
       "    </tr>\n",
       "    <tr>\n",
       "      <th>530</th>\n",
       "      <td>xemheyghqkjzsnmxdcxp.jpg</td>\n",
       "      <td>1.0</td>\n",
       "    </tr>\n",
       "    <tr>\n",
       "      <th>531</th>\n",
       "      <td>eewnxfiozkaozdphhcii.jpg</td>\n",
       "      <td>1.0</td>\n",
       "    </tr>\n",
       "    <tr>\n",
       "      <th>532</th>\n",
       "      <td>fafkopyrufweampjavsu.jpg</td>\n",
       "      <td>0.0</td>\n",
       "    </tr>\n",
       "  </tbody>\n",
       "</table>\n",
       "<p>533 rows × 2 columns</p>\n",
       "</div>\n",
       "      <button class=\"colab-df-convert\" onclick=\"convertToInteractive('df-fa7d9227-8459-48a4-bc24-9ba22bd9d601')\"\n",
       "              title=\"Convert this dataframe to an interactive table.\"\n",
       "              style=\"display:none;\">\n",
       "        \n",
       "  <svg xmlns=\"http://www.w3.org/2000/svg\" height=\"24px\"viewBox=\"0 0 24 24\"\n",
       "       width=\"24px\">\n",
       "    <path d=\"M0 0h24v24H0V0z\" fill=\"none\"/>\n",
       "    <path d=\"M18.56 5.44l.94 2.06.94-2.06 2.06-.94-2.06-.94-.94-2.06-.94 2.06-2.06.94zm-11 1L8.5 8.5l.94-2.06 2.06-.94-2.06-.94L8.5 2.5l-.94 2.06-2.06.94zm10 10l.94 2.06.94-2.06 2.06-.94-2.06-.94-.94-2.06-.94 2.06-2.06.94z\"/><path d=\"M17.41 7.96l-1.37-1.37c-.4-.4-.92-.59-1.43-.59-.52 0-1.04.2-1.43.59L10.3 9.45l-7.72 7.72c-.78.78-.78 2.05 0 2.83L4 21.41c.39.39.9.59 1.41.59.51 0 1.02-.2 1.41-.59l7.78-7.78 2.81-2.81c.8-.78.8-2.07 0-2.86zM5.41 20L4 18.59l7.72-7.72 1.47 1.35L5.41 20z\"/>\n",
       "  </svg>\n",
       "      </button>\n",
       "      \n",
       "  <style>\n",
       "    .colab-df-container {\n",
       "      display:flex;\n",
       "      flex-wrap:wrap;\n",
       "      gap: 12px;\n",
       "    }\n",
       "\n",
       "    .colab-df-convert {\n",
       "      background-color: #E8F0FE;\n",
       "      border: none;\n",
       "      border-radius: 50%;\n",
       "      cursor: pointer;\n",
       "      display: none;\n",
       "      fill: #1967D2;\n",
       "      height: 32px;\n",
       "      padding: 0 0 0 0;\n",
       "      width: 32px;\n",
       "    }\n",
       "\n",
       "    .colab-df-convert:hover {\n",
       "      background-color: #E2EBFA;\n",
       "      box-shadow: 0px 1px 2px rgba(60, 64, 67, 0.3), 0px 1px 3px 1px rgba(60, 64, 67, 0.15);\n",
       "      fill: #174EA6;\n",
       "    }\n",
       "\n",
       "    [theme=dark] .colab-df-convert {\n",
       "      background-color: #3B4455;\n",
       "      fill: #D2E3FC;\n",
       "    }\n",
       "\n",
       "    [theme=dark] .colab-df-convert:hover {\n",
       "      background-color: #434B5C;\n",
       "      box-shadow: 0px 1px 3px 1px rgba(0, 0, 0, 0.15);\n",
       "      filter: drop-shadow(0px 1px 2px rgba(0, 0, 0, 0.3));\n",
       "      fill: #FFFFFF;\n",
       "    }\n",
       "  </style>\n",
       "\n",
       "      <script>\n",
       "        const buttonEl =\n",
       "          document.querySelector('#df-fa7d9227-8459-48a4-bc24-9ba22bd9d601 button.colab-df-convert');\n",
       "        buttonEl.style.display =\n",
       "          google.colab.kernel.accessAllowed ? 'block' : 'none';\n",
       "\n",
       "        async function convertToInteractive(key) {\n",
       "          const element = document.querySelector('#df-fa7d9227-8459-48a4-bc24-9ba22bd9d601');\n",
       "          const dataTable =\n",
       "            await google.colab.kernel.invokeFunction('convertToInteractive',\n",
       "                                                     [key], {});\n",
       "          if (!dataTable) return;\n",
       "\n",
       "          const docLinkHtml = 'Like what you see? Visit the ' +\n",
       "            '<a target=\"_blank\" href=https://colab.research.google.com/notebooks/data_table.ipynb>data table notebook</a>'\n",
       "            + ' to learn more about interactive tables.';\n",
       "          element.innerHTML = '';\n",
       "          dataTable['output_type'] = 'display_data';\n",
       "          await google.colab.output.renderOutput(dataTable, element);\n",
       "          const docLink = document.createElement('div');\n",
       "          docLink.innerHTML = docLinkHtml;\n",
       "          element.appendChild(docLink);\n",
       "        }\n",
       "      </script>\n",
       "    </div>\n",
       "  </div>\n",
       "  "
      ],
      "text/plain": [
       "                     filename  blur\n",
       "0    ejjtvrhazazshfpuxiga.jpg   1.0\n",
       "1    fvrwriifmwpoghyonqiq.jpg   1.0\n",
       "2    qgeppailqsbyreabuabq.jpg   0.0\n",
       "3    ohhepvgvfzbwlzunyleb.jpg   1.0\n",
       "4    runzfbzjtsrencjrfztc.jpg   1.0\n",
       "..                        ...   ...\n",
       "528  ekzzbhgxpjkbsxtxlbnc.jpg   0.0\n",
       "529  meipbfwdswjbsrqgvavf.jpg   0.0\n",
       "530  xemheyghqkjzsnmxdcxp.jpg   1.0\n",
       "531  eewnxfiozkaozdphhcii.jpg   1.0\n",
       "532  fafkopyrufweampjavsu.jpg   0.0\n",
       "\n",
       "[533 rows x 2 columns]"
      ]
     },
     "execution_count": 43,
     "metadata": {},
     "output_type": "execute_result"
    }
   ],
   "source": [
    "test_path = project_path / 'test'\n",
    "df_raw_test = pd.read_csv(test_path / 'test.csv')\n",
    "print(len(df_raw_test))\n",
    "df_raw_test"
   ]
  },
  {
   "cell_type": "code",
   "execution_count": null,
   "metadata": {
    "colab": {
     "base_uri": "https://localhost:8080/",
     "height": 206
    },
    "executionInfo": {
     "elapsed": 91,
     "status": "ok",
     "timestamp": 1679378249082,
     "user": {
      "displayName": "Leonid Miller",
      "userId": "09619655846794847790"
     },
     "user_tz": -420
    },
    "id": "95wkv9aC1UcF",
    "outputId": "0a0129ed-4342-4d86-c899-f39ab239051b"
   },
   "outputs": [
    {
     "data": {
      "text/html": [
       "\n",
       "  <div id=\"df-6935837a-7097-4eb8-936b-576d4eebfb4a\">\n",
       "    <div class=\"colab-df-container\">\n",
       "      <div>\n",
       "<style scoped>\n",
       "    .dataframe tbody tr th:only-of-type {\n",
       "        vertical-align: middle;\n",
       "    }\n",
       "\n",
       "    .dataframe tbody tr th {\n",
       "        vertical-align: top;\n",
       "    }\n",
       "\n",
       "    .dataframe thead th {\n",
       "        text-align: right;\n",
       "    }\n",
       "</style>\n",
       "<table border=\"1\" class=\"dataframe\">\n",
       "  <thead>\n",
       "    <tr style=\"text-align: right;\">\n",
       "      <th></th>\n",
       "      <th>filename</th>\n",
       "      <th>blur</th>\n",
       "    </tr>\n",
       "  </thead>\n",
       "  <tbody>\n",
       "    <tr>\n",
       "      <th>0</th>\n",
       "      <td>/content/drive/MyDrive/ИСИТ11/test/test/ejjtvr...</td>\n",
       "      <td>1.0</td>\n",
       "    </tr>\n",
       "    <tr>\n",
       "      <th>1</th>\n",
       "      <td>/content/drive/MyDrive/ИСИТ11/test/test/fvrwri...</td>\n",
       "      <td>1.0</td>\n",
       "    </tr>\n",
       "    <tr>\n",
       "      <th>2</th>\n",
       "      <td>/content/drive/MyDrive/ИСИТ11/test/test/qgeppa...</td>\n",
       "      <td>0.0</td>\n",
       "    </tr>\n",
       "    <tr>\n",
       "      <th>3</th>\n",
       "      <td>/content/drive/MyDrive/ИСИТ11/test/test/ohhepv...</td>\n",
       "      <td>1.0</td>\n",
       "    </tr>\n",
       "    <tr>\n",
       "      <th>4</th>\n",
       "      <td>/content/drive/MyDrive/ИСИТ11/test/test/runzfb...</td>\n",
       "      <td>1.0</td>\n",
       "    </tr>\n",
       "  </tbody>\n",
       "</table>\n",
       "</div>\n",
       "      <button class=\"colab-df-convert\" onclick=\"convertToInteractive('df-6935837a-7097-4eb8-936b-576d4eebfb4a')\"\n",
       "              title=\"Convert this dataframe to an interactive table.\"\n",
       "              style=\"display:none;\">\n",
       "        \n",
       "  <svg xmlns=\"http://www.w3.org/2000/svg\" height=\"24px\"viewBox=\"0 0 24 24\"\n",
       "       width=\"24px\">\n",
       "    <path d=\"M0 0h24v24H0V0z\" fill=\"none\"/>\n",
       "    <path d=\"M18.56 5.44l.94 2.06.94-2.06 2.06-.94-2.06-.94-.94-2.06-.94 2.06-2.06.94zm-11 1L8.5 8.5l.94-2.06 2.06-.94-2.06-.94L8.5 2.5l-.94 2.06-2.06.94zm10 10l.94 2.06.94-2.06 2.06-.94-2.06-.94-.94-2.06-.94 2.06-2.06.94z\"/><path d=\"M17.41 7.96l-1.37-1.37c-.4-.4-.92-.59-1.43-.59-.52 0-1.04.2-1.43.59L10.3 9.45l-7.72 7.72c-.78.78-.78 2.05 0 2.83L4 21.41c.39.39.9.59 1.41.59.51 0 1.02-.2 1.41-.59l7.78-7.78 2.81-2.81c.8-.78.8-2.07 0-2.86zM5.41 20L4 18.59l7.72-7.72 1.47 1.35L5.41 20z\"/>\n",
       "  </svg>\n",
       "      </button>\n",
       "      \n",
       "  <style>\n",
       "    .colab-df-container {\n",
       "      display:flex;\n",
       "      flex-wrap:wrap;\n",
       "      gap: 12px;\n",
       "    }\n",
       "\n",
       "    .colab-df-convert {\n",
       "      background-color: #E8F0FE;\n",
       "      border: none;\n",
       "      border-radius: 50%;\n",
       "      cursor: pointer;\n",
       "      display: none;\n",
       "      fill: #1967D2;\n",
       "      height: 32px;\n",
       "      padding: 0 0 0 0;\n",
       "      width: 32px;\n",
       "    }\n",
       "\n",
       "    .colab-df-convert:hover {\n",
       "      background-color: #E2EBFA;\n",
       "      box-shadow: 0px 1px 2px rgba(60, 64, 67, 0.3), 0px 1px 3px 1px rgba(60, 64, 67, 0.15);\n",
       "      fill: #174EA6;\n",
       "    }\n",
       "\n",
       "    [theme=dark] .colab-df-convert {\n",
       "      background-color: #3B4455;\n",
       "      fill: #D2E3FC;\n",
       "    }\n",
       "\n",
       "    [theme=dark] .colab-df-convert:hover {\n",
       "      background-color: #434B5C;\n",
       "      box-shadow: 0px 1px 3px 1px rgba(0, 0, 0, 0.15);\n",
       "      filter: drop-shadow(0px 1px 2px rgba(0, 0, 0, 0.3));\n",
       "      fill: #FFFFFF;\n",
       "    }\n",
       "  </style>\n",
       "\n",
       "      <script>\n",
       "        const buttonEl =\n",
       "          document.querySelector('#df-6935837a-7097-4eb8-936b-576d4eebfb4a button.colab-df-convert');\n",
       "        buttonEl.style.display =\n",
       "          google.colab.kernel.accessAllowed ? 'block' : 'none';\n",
       "\n",
       "        async function convertToInteractive(key) {\n",
       "          const element = document.querySelector('#df-6935837a-7097-4eb8-936b-576d4eebfb4a');\n",
       "          const dataTable =\n",
       "            await google.colab.kernel.invokeFunction('convertToInteractive',\n",
       "                                                     [key], {});\n",
       "          if (!dataTable) return;\n",
       "\n",
       "          const docLinkHtml = 'Like what you see? Visit the ' +\n",
       "            '<a target=\"_blank\" href=https://colab.research.google.com/notebooks/data_table.ipynb>data table notebook</a>'\n",
       "            + ' to learn more about interactive tables.';\n",
       "          element.innerHTML = '';\n",
       "          dataTable['output_type'] = 'display_data';\n",
       "          await google.colab.output.renderOutput(dataTable, element);\n",
       "          const docLink = document.createElement('div');\n",
       "          docLink.innerHTML = docLinkHtml;\n",
       "          element.appendChild(docLink);\n",
       "        }\n",
       "      </script>\n",
       "    </div>\n",
       "  </div>\n",
       "  "
      ],
      "text/plain": [
       "                                            filename  blur\n",
       "0  /content/drive/MyDrive/ИСИТ11/test/test/ejjtvr...   1.0\n",
       "1  /content/drive/MyDrive/ИСИТ11/test/test/fvrwri...   1.0\n",
       "2  /content/drive/MyDrive/ИСИТ11/test/test/qgeppa...   0.0\n",
       "3  /content/drive/MyDrive/ИСИТ11/test/test/ohhepv...   1.0\n",
       "4  /content/drive/MyDrive/ИСИТ11/test/test/runzfb...   1.0"
      ]
     },
     "execution_count": 44,
     "metadata": {},
     "output_type": "execute_result"
    }
   ],
   "source": [
    "df_test = df_raw_test.copy()\n",
    "df_test['filename'] = df_test['filename'].apply(lambda x: str(test_path.absolute()) + '/test/' + x)\n",
    "df_test.head()"
   ]
  },
  {
   "cell_type": "code",
   "execution_count": null,
   "metadata": {
    "colab": {
     "base_uri": "https://localhost:8080/"
    },
    "executionInfo": {
     "elapsed": 89,
     "status": "ok",
     "timestamp": 1679378249083,
     "user": {
      "displayName": "Leonid Miller",
      "userId": "09619655846794847790"
     },
     "user_tz": -420
    },
    "id": "ktgTKeUW1_aA",
    "outputId": "e47c2dcc-c975-442d-bd25-f40e150c8888"
   },
   "outputs": [
    {
     "name": "stdout",
     "output_type": "stream",
     "text": [
      "blur images: 260\n",
      "sharp images: 273\n"
     ]
    }
   ],
   "source": [
    "test_blur = df_test[df_test[\"blur\"]==1]\n",
    "test_sharp = df_test[df_test[\"blur\"]==0]\n",
    "\n",
    "print(\"blur images:\", len(test_blur))\n",
    "print(\"sharp images:\", len(test_sharp))"
   ]
  },
  {
   "cell_type": "markdown",
   "metadata": {
    "id": "Ap6622hJk1iq"
   },
   "source": [
    "### ***Просмотр обучающей выборки***\n",
    "В данных блоках вы можете посмотреть несколько **четких** и несколько **размытых** фотографий *соответсвенно*."
   ]
  },
  {
   "cell_type": "code",
   "execution_count": null,
   "metadata": {
    "colab": {
     "base_uri": "https://localhost:8080/",
     "height": 375,
     "output_embedded_package_id": "1zaGr8DIKOTQhf-F0--Rth1Aweli6Pe2Q"
    },
    "executionInfo": {
     "elapsed": 7561,
     "status": "ok",
     "timestamp": 1679378256560,
     "user": {
      "displayName": "Leonid Miller",
      "userId": "09619655846794847790"
     },
     "user_tz": -420
    },
    "id": "jXvZANZs1_vm",
    "outputId": "44c91a06-2506-4581-8d70-c7b885821f1f"
   },
   "outputs": [
    {
     "data": {
      "text/plain": [
       "Output hidden; open in https://colab.research.google.com to view."
      ]
     },
     "metadata": {},
     "output_type": "display_data"
    }
   ],
   "source": [
    "images = test_sharp.filename.sample(6).tolist()\n",
    "print(images)\n",
    "plot_images(images, max_images=10,img_width=220,force_b64=True)"
   ]
  },
  {
   "cell_type": "code",
   "execution_count": null,
   "metadata": {
    "colab": {
     "base_uri": "https://localhost:8080/",
     "height": 337,
     "output_embedded_package_id": "1y0fMFF0dMDrKJsQ6jkLCY9ST4HRlwKue"
    },
    "executionInfo": {
     "elapsed": 74,
     "status": "ok",
     "timestamp": 1679378256561,
     "user": {
      "displayName": "Leonid Miller",
      "userId": "09619655846794847790"
     },
     "user_tz": -420
    },
    "id": "eEeou7nK2Nvz",
    "outputId": "92b413e9-60de-4a44-ebe8-e61d741c8df2"
   },
   "outputs": [
    {
     "data": {
      "text/plain": [
       "Output hidden; open in https://colab.research.google.com to view."
      ]
     },
     "metadata": {},
     "output_type": "display_data"
    }
   ],
   "source": [
    "images = test_blur.filename.sample(6).tolist()\n",
    "plot_images(images,max_images=10,img_width=220,force_b64=True)"
   ]
  },
  {
   "cell_type": "markdown",
   "metadata": {
    "id": "I88Qos42oYc7"
   },
   "source": [
    "# **Решение проблемы без методов искусственного интеллекта**\n",
    "В данном разделе описано отдельное решение без методов искусственного интеллекта для сравнения. Решение основано на преобразовании Фурье.\n"
   ]
  },
  {
   "cell_type": "code",
   "execution_count": null,
   "metadata": {
    "id": "DqSVKA57GbsP"
   },
   "outputs": [],
   "source": [
    "def read_image_gray(path):\n",
    "    return cv2.cvtColor(cv2.imread(path), cv2.COLOR_BGR2GRAY)"
   ]
  },
  {
   "cell_type": "code",
   "execution_count": null,
   "metadata": {
    "id": "3wLMeICtGcg5"
   },
   "outputs": [],
   "source": [
    "from torch.utils.data import Dataset, DataLoader\n",
    "\n",
    "class CustomDataset(Dataset):\n",
    "    def __init__(self, df):\n",
    "        self.df = df\n",
    "\n",
    "    def __len__(self):\n",
    "        return len(self.df)\n",
    "\n",
    "\n",
    "class CustomDatasetTrain(CustomDataset):\n",
    "    def __init__(self, df, transform=None):\n",
    "        super().__init__(df)\n",
    "        self.transform = transform\n",
    "\n",
    "    def __getitem__(self,idx):\n",
    "        image = self.df.filename.iloc[idx]\n",
    "        image = read_image_gray(image)\n",
    "        if self.transform:\n",
    "            image = self.transform(image)\n",
    "        label = self.df.blur.iloc[idx]\n",
    "        return {'image': image, 'label': label}\n",
    "\n",
    "\n",
    "class CustomDatasetTest(CustomDataset):\n",
    "    def __getitem__(self,idx):\n",
    "        image = self.df.filename.iloc[idx]\n",
    "        image = read_image_gray(image)\n",
    "        return {'image': image}"
   ]
  },
  {
   "cell_type": "code",
   "execution_count": null,
   "metadata": {
    "colab": {
     "base_uri": "https://localhost:8080/"
    },
    "executionInfo": {
     "elapsed": 30,
     "status": "ok",
     "timestamp": 1679378256563,
     "user": {
      "displayName": "Leonid Miller",
      "userId": "09619655846794847790"
     },
     "user_tz": -420
    },
    "id": "jq_0yY5aGhVe",
    "outputId": "d1b23527-73a1-4e28-9203-bb5f5514ce86"
   },
   "outputs": [
    {
     "data": {
      "text/plain": [
       "(<torch.utils.data.dataloader.DataLoader at 0x7fb36e9f4400>,)"
      ]
     },
     "execution_count": 50,
     "metadata": {},
     "output_type": "execute_result"
    }
   ],
   "source": [
    "test_dataset = CustomDatasetTrain(df_test)\n",
    "\n",
    "test_dataloader = DataLoader(\n",
    "            dataset=test_dataset,\n",
    "            batch_size=16,\n",
    "            ),\n",
    "test_dataloader"
   ]
  },
  {
   "cell_type": "code",
   "execution_count": null,
   "metadata": {
    "id": "lWo1JkCZRTVI"
   },
   "outputs": [],
   "source": [
    "def calc_fft_measure(gray_img, size=40):\n",
    "    \"\"\" Определение заблюренности изображения с помощью Fourier transform:\n",
    "\n",
    "    - Изображение переводится в частотный спектр с помощью fft, производится сдвиг начала координат и\n",
    "    зануляется низкочастотный спектр.\n",
    "    - Частотный спектр переводится обратно в изображение с помощью inverse fft.\n",
    "    - Считается магнитуда, определяется уровень заблюренности картинки.\n",
    "    Чем больше полученное значение, тем более размыто изображение\n",
    "    \"\"\"\n",
    "    (n, h, w) = gray_img.shape\n",
    "    (cx, cy) = (int(w / 2.0), int(h / 2.0))\n",
    "    fft = np.fft.fft2(gray_img, axes=(1, 2))\n",
    "    fftShift = np.fft.fftshift(fft, axes=(1, 2))\n",
    "\n",
    "    fftShift[:, cy - size : cy + size, cx - size : cx + size] = 0\n",
    "    fftShift = np.fft.ifftshift(fftShift, axes=(1, 2))\n",
    "    recon = np.fft.ifft2(fftShift, axes=(1, 2))\n",
    "\n",
    "    magnitude = 20 * np.log(np.abs(recon))\n",
    "    mean = 1/np.average(magnitude, axis=(1, 2))\n",
    "\n",
    "    return mean"
   ]
  },
  {
   "cell_type": "code",
   "execution_count": null,
   "metadata": {
    "colab": {
     "base_uri": "https://localhost:8080/"
    },
    "executionInfo": {
     "elapsed": 4602,
     "status": "ok",
     "timestamp": 1679378261142,
     "user": {
      "displayName": "Leonid Miller",
      "userId": "09619655846794847790"
     },
     "user_tz": -420
    },
    "id": "FMsiD729RZmy",
    "outputId": "0882eb3a-2c48-4f6e-c0ae-473e5913bbb9"
   },
   "outputs": [
    {
     "name": "stderr",
     "output_type": "stream",
     "text": [
      "100%|██████████| 34/34 [00:23<00:00,  1.45it/s]\n"
     ]
    }
   ],
   "source": [
    "fft_measures = []\n",
    "\n",
    "for dl in test_dataloader:\n",
    "    # print(dl)\n",
    "    for batch in tqdm(dl):\n",
    "        fft_measures.extend(calc_fft_measure(batch['image']).tolist())\n",
    "\n",
    "df_test['fft_measure'] = fft_measures"
   ]
  },
  {
   "cell_type": "code",
   "execution_count": null,
   "metadata": {
    "colab": {
     "base_uri": "https://localhost:8080/"
    },
    "executionInfo": {
     "elapsed": 7,
     "status": "ok",
     "timestamp": 1679378261143,
     "user": {
      "displayName": "Leonid Miller",
      "userId": "09619655846794847790"
     },
     "user_tz": -420
    },
    "id": "hICDz2x8Vkds",
    "outputId": "ded703bd-4ac9-4219-8222-d835c06cacaa"
   },
   "outputs": [
    {
     "name": "stdout",
     "output_type": "stream",
     "text": [
      "ROC AUC using Total Variation: 0.81398\n"
     ]
    }
   ],
   "source": [
    "print('ROC AUC using Total Variation:', np.round(roc_auc_score(df_test.blur.tolist(), df_test.fft_measure.tolist()), 5))"
   ]
  },
  {
   "cell_type": "markdown",
   "metadata": {
    "id": "n1J_U9_ApZNs"
   },
   "source": [
    "### ***Заключение метода***\n",
    "Как показала практика данный метод с примерной точностью в **80%** имеет место быть, но в данной работе мы постараемся выдать более сильный классификатор на основе нейронных сетей."
   ]
  },
  {
   "cell_type": "markdown",
   "metadata": {
    "id": "ioqqfnjblFv2"
   },
   "source": [
    "# **Решение проблемы на основе сверточных сетей**\n",
    "В данном разделе описано решение классификации изображения на основе сверточных нейронных сетей.\n",
    "\n"
   ]
  },
  {
   "cell_type": "markdown",
   "metadata": {
    "id": "fI3Z9-ohqrHc"
   },
   "source": [
    "## ***Подготовка датасетов***\n",
    "Теперь нам необходимо соеденить знания о классификации изображения вместе с самими изображениями. Для этого используется [ImageDataGenerator](https://www.tensorflow.org/api_docs/python/tf/keras/preprocessing/image/ImageDataGenerator) из Keras. Данный генератор кроме создания датасета также аугментирует его по заданным параметрам, делая нашу выборку больше. Также стоит отметить, что в данном блоке кода кроме обучающей и тестовой выделяется валидационная выборка,\n",
    "для более качественного обучения модели.\n",
    "\n",
    "*P.S.* Как вариант можно в будущем заменить данное решение на более эффективный генератор."
   ]
  },
  {
   "cell_type": "code",
   "execution_count": null,
   "metadata": {
    "colab": {
     "base_uri": "https://localhost:8080/"
    },
    "executionInfo": {
     "elapsed": 1118,
     "status": "ok",
     "timestamp": 1679378262258,
     "user": {
      "displayName": "Leonid Miller",
      "userId": "09619655846794847790"
     },
     "user_tz": -420
    },
    "id": "WiMKKaAw1myD",
    "outputId": "499c96f0-be2e-4981-a5e9-aea9a0a8bd32"
   },
   "outputs": [
    {
     "name": "stdout",
     "output_type": "stream",
     "text": [
      "Found 1812 validated image filenames.\n",
      "Found 319 validated image filenames.\n",
      "Found 533 validated image filenames.\n"
     ]
    }
   ],
   "source": [
    "train_datagen = tf.keras.preprocessing.image.ImageDataGenerator(\n",
    "        rescale = 1./255,\n",
    "        rotation_range = 20,\n",
    "        zoom_range = 0.05,\n",
    "        width_shift_range = 0.05,\n",
    "        height_shift_range = 0.05,\n",
    "        shear_range = 0.05,\n",
    "        vertical_flip = True,\n",
    "        horizontal_flip = True,\n",
    "        fill_mode = \"nearest\",\n",
    "        validation_split = 0.15)\n",
    "\n",
    "test_datagen = tf.keras.preprocessing.image.ImageDataGenerator(\n",
    "        rescale=1./255)\n",
    "\n",
    "train_ds = train_datagen.flow_from_dataframe(\n",
    "        df_train,\n",
    "        directory=train_path / 'train',\n",
    "        x_col='filename',\n",
    "        y_col= 'blur',\n",
    "        batch_size=64,\n",
    "        shuffle=True,\n",
    "        subset='training',\n",
    "        class_mode='raw')\n",
    "\n",
    "val_ds = train_datagen.flow_from_dataframe(\n",
    "        df_train,\n",
    "        directory=train_path / 'train',\n",
    "        x_col='filename',\n",
    "        y_col= 'blur',\n",
    "        shuffle=True,\n",
    "        batch_size=64,\n",
    "        subset='validation',\n",
    "        class_mode='raw')\n",
    "\n",
    "test_ds = test_datagen.flow_from_dataframe(\n",
    "        df_test,\n",
    "        directory=test_path / 'test',\n",
    "        x_col='filename',\n",
    "        batch_size=1,\n",
    "        class_mode=None,\n",
    "        shuffle=False)"
   ]
  },
  {
   "cell_type": "markdown",
   "metadata": {
    "id": "OZx0uxGxq9nP"
   },
   "source": [
    "## ***Компиляция сверточной нейронной модели***\n",
    "Для классификации изображений выбрана сверточная нейронная сеть **Keras**. Дополнительную информацию о ней можно прочитать [здесь](https://www.tensorflow.org/api_docs/python/tf/keras/Model).\n",
    "\n",
    "В данном блоке кода описывается кол-во нейронных слоев, а также их размерность. При редактировании данных гиперпараметров учтите, что чем больше на выходе связей, тем тяжелее нейронаая сеть.\n"
   ]
  },
  {
   "cell_type": "code",
   "execution_count": null,
   "metadata": {
    "colab": {
     "base_uri": "https://localhost:8080/"
    },
    "executionInfo": {
     "elapsed": 981,
     "status": "ok",
     "timestamp": 1679378263237,
     "user": {
      "displayName": "Leonid Miller",
      "userId": "09619655846794847790"
     },
     "user_tz": -420
    },
    "id": "kKvJi1Vm2ZhO",
    "outputId": "23642516-a6f1-4a9b-9428-0cdbbf0a894f"
   },
   "outputs": [
    {
     "name": "stdout",
     "output_type": "stream",
     "text": [
      "Model: \"sequential\"\n",
      "_________________________________________________________________\n",
      " Layer (type)                Output Shape              Param #   \n",
      "=================================================================\n",
      " conv2d (Conv2D)             (None, 254, 254, 32)      896       \n",
      "                                                                 \n",
      " max_pooling2d (MaxPooling2D  (None, 127, 127, 32)     0         \n",
      " )                                                               \n",
      "                                                                 \n",
      " conv2d_1 (Conv2D)           (None, 125, 125, 32)      9248      \n",
      "                                                                 \n",
      " max_pooling2d_1 (MaxPooling  (None, 62, 62, 32)       0         \n",
      " 2D)                                                             \n",
      "                                                                 \n",
      " conv2d_2 (Conv2D)           (None, 60, 60, 32)        9248      \n",
      "                                                                 \n",
      " max_pooling2d_2 (MaxPooling  (None, 30, 30, 32)       0         \n",
      " 2D)                                                             \n",
      "                                                                 \n",
      " conv2d_3 (Conv2D)           (None, 28, 28, 16)        4624      \n",
      "                                                                 \n",
      " max_pooling2d_3 (MaxPooling  (None, 14, 14, 16)       0         \n",
      " 2D)                                                             \n",
      "                                                                 \n",
      " flatten (Flatten)           (None, 3136)              0         \n",
      "                                                                 \n",
      " dense (Dense)               (None, 64)                200768    \n",
      "                                                                 \n",
      " dropout (Dropout)           (None, 64)                0         \n",
      "                                                                 \n",
      " dense_1 (Dense)             (None, 32)                2080      \n",
      "                                                                 \n",
      " dropout_1 (Dropout)         (None, 32)                0         \n",
      "                                                                 \n",
      " dense_2 (Dense)             (None, 1)                 33        \n",
      "                                                                 \n",
      "=================================================================\n",
      "Total params: 226,897\n",
      "Trainable params: 226,897\n",
      "Non-trainable params: 0\n",
      "_________________________________________________________________\n"
     ]
    }
   ],
   "source": [
    "def auroc(y_true, y_pred):\n",
    "    try:\n",
    "        auroc = tf.py_function(roc_auc_score, (y_true, y_pred), tf.double)\n",
    "    except ValueError:\n",
    "        pass\n",
    "    return auroc\n",
    "metrics=['accuracy', auroc]\n",
    "\n",
    "model = Sequential()\n",
    "model.add(Conv2D(32, (3,3), 1, activation='relu', input_shape=(256,256,3)))\n",
    "model.add(MaxPooling2D())# model.add(MaxPooling2D())\n",
    "model.add(Conv2D(32, (3,3), 1, activation='relu'))\n",
    "model.add(MaxPooling2D())# model.add(MaxPooling2D())\n",
    "model.add(Conv2D(32, (3,3), 1, activation='relu'))\n",
    "model.add(MaxPooling2D())# model.add(MaxPooling2D())\n",
    "model.add(Conv2D(16, (3,3), 1, activation='relu'))\n",
    "model.add(MaxPooling2D())# model.add(MaxPooling2D())\n",
    "model.add(Flatten())\n",
    "model.add(Dense(64, activation='selu'))\n",
    "model.add(Dropout(0.5))\n",
    "model.add(Dense(32, activation='selu'))\n",
    "model.add(Dropout(0.5))\n",
    "model.add(Dense(1, activation='sigmoid'))\n",
    "model.compile('adam', loss=tf.losses.BinaryCrossentropy(), metrics=metrics)\n",
    "model.summary()"
   ]
  },
  {
   "cell_type": "markdown",
   "metadata": {
    "id": "XsyMWAwisbES"
   },
   "source": [
    "## ***Обучение сверточной нейронной модели***\n",
    "В данном блоке кода с помощью метода ***fit*** происхоит обучение модели на обучающей выборке и сравнение обучения на валидационной выборке. Для ускорения времени обучния добавлен метод ранней остановки или же [EarlyStopping](https://keras.io/api/callbacks/early_stopping/).\n",
    "\n",
    "В данном блоке можно попробовать изменить ошибку остановки ***erloss*** или же именить параметры обучения и ранней остановки. Учтите, что чем больше эпох стоит при обучении тем дольше модель будет обучаться.\n",
    "\n",
    "*P.S.* примерное время с данными настройками в Google Colab ***~40 минут***, на относительно среднем процессоре данный модуль выполняется за ***~15 минут***."
   ]
  },
  {
   "cell_type": "code",
   "execution_count": null,
   "metadata": {
    "colab": {
     "base_uri": "https://localhost:8080/"
    },
    "executionInfo": {
     "elapsed": 4085047,
     "status": "ok",
     "timestamp": 1679382348278,
     "user": {
      "displayName": "Leonid Miller",
      "userId": "09619655846794847790"
     },
     "user_tz": -420
    },
    "id": "Gq7JjtCQ2pb9",
    "outputId": "1b5eba41-42b0-4a7a-d49e-7ad4f036830a"
   },
   "outputs": [
    {
     "name": "stdout",
     "output_type": "stream",
     "text": [
      "Epoch 1/20\n",
      "29/29 [==============================] - 552s 19s/step - loss: 0.6961 - accuracy: 0.5552 - auroc: 0.6180 - val_loss: 0.6821 - val_accuracy: 0.5799 - val_auroc: 0.7349\n",
      "Epoch 2/20\n",
      "29/29 [==============================] - 154s 5s/step - loss: 0.6279 - accuracy: 0.6821 - auroc: 0.7495 - val_loss: 0.5650 - val_accuracy: 0.7398 - val_auroc: 0.8246\n",
      "Epoch 3/20\n",
      "29/29 [==============================] - 156s 5s/step - loss: 0.5513 - accuracy: 0.7329 - auroc: 0.8206 - val_loss: 0.4902 - val_accuracy: 0.7680 - val_auroc: 0.8596\n",
      "Epoch 4/20\n",
      "29/29 [==============================] - 164s 6s/step - loss: 0.5234 - accuracy: 0.7666 - auroc: 0.8600 - val_loss: 0.4469 - val_accuracy: 0.7900 - val_auroc: 0.9051\n",
      "Epoch 5/20\n",
      "29/29 [==============================] - 155s 5s/step - loss: 0.4552 - accuracy: 0.7969 - auroc: 0.8942 - val_loss: 0.4569 - val_accuracy: 0.7712 - val_auroc: 0.9376\n",
      "Epoch 6/20\n",
      "29/29 [==============================] - 155s 5s/step - loss: 0.4064 - accuracy: 0.8273 - auroc: 0.9240 - val_loss: 0.3598 - val_accuracy: 0.8245 - val_auroc: 0.9536\n",
      "Epoch 7/20\n",
      "29/29 [==============================] - 163s 6s/step - loss: 0.4189 - accuracy: 0.8284 - auroc: 0.9328 - val_loss: 0.3426 - val_accuracy: 0.8777 - val_auroc: 0.9493\n",
      "Epoch 8/20\n",
      "29/29 [==============================] - 165s 6s/step - loss: 0.4880 - accuracy: 0.8002 - auroc: 0.8997 - val_loss: 0.3966 - val_accuracy: 0.8495 - val_auroc: 0.9327\n",
      "Epoch 9/20\n",
      "29/29 [==============================] - 155s 5s/step - loss: 0.4630 - accuracy: 0.7980 - auroc: 0.9187 - val_loss: 0.4421 - val_accuracy: 0.7586 - val_auroc: 0.9460\n",
      "Epoch 10/20\n",
      "29/29 [==============================] - 153s 5s/step - loss: 0.3880 - accuracy: 0.8405 - auroc: 0.9338 - val_loss: 0.3075 - val_accuracy: 0.8966 - val_auroc: 0.9513\n",
      "Epoch 11/20\n",
      "29/29 [==============================] - 154s 5s/step - loss: 0.3243 - accuracy: 0.8687 - auroc: 0.9511 - val_loss: 0.2592 - val_accuracy: 0.9248 - val_auroc: 0.9589\n",
      "Epoch 12/20\n",
      "29/29 [==============================] - 164s 6s/step - loss: 0.2978 - accuracy: 0.8918 - auroc: 0.9592 - val_loss: 0.3999 - val_accuracy: 0.8245 - val_auroc: 0.9376\n",
      "Epoch 13/20\n",
      "29/29 [==============================] - 153s 5s/step - loss: 0.3056 - accuracy: 0.8797 - auroc: 0.9541 - val_loss: 0.2991 - val_accuracy: 0.8966 - val_auroc: 0.9637\n",
      "Epoch 14/20\n",
      "29/29 [==============================] - 155s 5s/step - loss: 0.3048 - accuracy: 0.8830 - auroc: 0.9588 - val_loss: 0.2233 - val_accuracy: 0.9154 - val_auroc: 0.9727\n",
      "Epoch 15/20\n",
      "29/29 [==============================] - 153s 5s/step - loss: 0.2381 - accuracy: 0.9156 - auroc: 0.9737 - val_loss: 0.2219 - val_accuracy: 0.9248 - val_auroc: 0.9727\n",
      "Epoch 16/20\n",
      "29/29 [==============================] - 155s 5s/step - loss: 0.2441 - accuracy: 0.9084 - auroc: 0.9738 - val_loss: 0.2260 - val_accuracy: 0.9248 - val_auroc: 0.9719\n",
      "Epoch 17/20\n",
      "29/29 [==============================] - 163s 6s/step - loss: 0.2364 - accuracy: 0.9106 - auroc: 0.9727 - val_loss: 0.2362 - val_accuracy: 0.9248 - val_auroc: 0.9707\n",
      "Epoch 18/20\n",
      "29/29 [==============================] - 154s 5s/step - loss: 0.2381 - accuracy: 0.9123 - auroc: 0.9708 - val_loss: 0.1973 - val_accuracy: 0.9279 - val_auroc: 0.9779\n",
      "Epoch 19/20\n",
      "29/29 [==============================] - 155s 5s/step - loss: 0.2645 - accuracy: 0.9095 - auroc: 0.9757 - val_loss: 0.6572 - val_accuracy: 0.7649 - val_auroc: 0.9678\n",
      "Epoch 20/20\n",
      "29/29 [==============================] - 154s 5s/step - loss: 0.3846 - accuracy: 0.8466 - auroc: 0.9372 - val_loss: 0.2837 - val_accuracy: 0.8903 - val_auroc: 0.9513\n"
     ]
    }
   ],
   "source": [
    "erloss = 'val_loss' # 'val_accuracy' # 'val_auroc'\n",
    "earlyStopping = EarlyStopping(monitor=erloss, patience=4, verbose=0, mode='min', restore_best_weights=True)\n",
    "\n",
    "hist = model.fit(train_ds, validation_data=val_ds, epochs=20, callbacks=[earlyStopping])"
   ]
  },
  {
   "cell_type": "markdown",
   "metadata": {
    "id": "Obcfj0VBuc77"
   },
   "source": [
    "## ***Графический анализ обучения сверточной нейронной модели***\n",
    "В данных блоках кода представлены графики обучения вашей модели. Чем более плавный переход имеют графики тем лучше."
   ]
  },
  {
   "cell_type": "code",
   "execution_count": null,
   "metadata": {
    "colab": {
     "base_uri": "https://localhost:8080/",
     "height": 294
    },
    "executionInfo": {
     "elapsed": 29,
     "status": "ok",
     "timestamp": 1679382348278,
     "user": {
      "displayName": "Leonid Miller",
      "userId": "09619655846794847790"
     },
     "user_tz": -420
    },
    "id": "qOl5281L22Rc",
    "outputId": "00143113-a143-428d-9286-40d448811e35"
   },
   "outputs": [
    {
     "data": {
      "image/png": "[encoded data removed]",
      "text/plain": [
       "<Figure size 432x288 with 1 Axes>"
      ]
     },
     "metadata": {
      "needs_background": "light"
     },
     "output_type": "display_data"
    }
   ],
   "source": [
    "fig = plt.figure()\n",
    "plt.plot(hist.history['loss'], color='teal', label='loss')\n",
    "plt.plot(hist.history['val_loss'], color='orange', label='val_loss')\n",
    "fig.suptitle('Loss', fontsize=20)\n",
    "plt.legend(loc=\"upper left\")\n",
    "plt.show()"
   ]
  },
  {
   "cell_type": "code",
   "execution_count": null,
   "metadata": {
    "colab": {
     "base_uri": "https://localhost:8080/",
     "height": 294
    },
    "executionInfo": {
     "elapsed": 768,
     "status": "ok",
     "timestamp": 1679382349034,
     "user": {
      "displayName": "Leonid Miller",
      "userId": "09619655846794847790"
     },
     "user_tz": -420
    },
    "id": "pR3tmxC522y_",
    "outputId": "89799666-3d3e-426f-ccad-844dfe5ba9eb"
   },
   "outputs": [
    {
     "data": {
      "image/png": "[encoded data removed]",
      "text/plain": [
       "<Figure size 432x288 with 1 Axes>"
      ]
     },
     "metadata": {
      "needs_background": "light"
     },
     "output_type": "display_data"
    }
   ],
   "source": [
    "fig = plt.figure()\n",
    "plt.plot(hist.history['accuracy'], color='teal', label='accuracy')\n",
    "plt.plot(hist.history['val_accuracy'], color='orange', label='val_accuracy')\n",
    "fig.suptitle('Accuracy', fontsize=20)\n",
    "plt.legend(loc=\"upper left\")\n",
    "plt.show()"
   ]
  },
  {
   "cell_type": "markdown",
   "metadata": {
    "id": "WzE6ooRyu2Q4"
   },
   "source": [
    "## ***Получения предсказаний сверточной нейронной модели***\n",
    "В данном блоке кода предскаываем тестовый датасет и сравниваем его с реальными данными."
   ]
  },
  {
   "cell_type": "code",
   "execution_count": null,
   "metadata": {
    "colab": {
     "base_uri": "https://localhost:8080/"
    },
    "executionInfo": {
     "elapsed": 14099,
     "status": "ok",
     "timestamp": 1679382363117,
     "user": {
      "displayName": "Leonid Miller",
      "userId": "09619655846794847790"
     },
     "user_tz": -420
    },
    "id": "QAtxb1R926Z-",
    "outputId": "be428c51-5425-4406-ecfc-bf94b67c269d"
   },
   "outputs": [
    {
     "name": "stdout",
     "output_type": "stream",
     "text": [
      "533/533 [==============================] - 14s 26ms/step\n",
      "0.9438292476754016\n"
     ]
    }
   ],
   "source": [
    "measures = model.predict(test_ds)\n",
    "print(roc_auc_score(df_test['blur'], measures))"
   ]
  },
  {
   "cell_type": "markdown",
   "metadata": {
    "id": "HMR0S9vHvG85"
   },
   "source": [
    "### ***Заключение метода***\n",
    "Как показала практика данный метод с примерной точностью в **94%** смог опередить метод предсказания на основе преобразования Фурье."
   ]
  }
 ],
 "metadata": {
  "colab": {
   "authorship_tag": "ABX9TyO+2lxOgFxXZ+HX4dVUweDy",
   "provenance": []
  },
  "kernelspec": {
   "display_name": "Python 3 (ipykernel)",
   "language": "python",
   "name": "python3"
  },
  "language_info": {
   "codemirror_mode": {
    "name": "ipython",
    "version": 3
   },
   "file_extension": ".py",
   "mimetype": "text/x-python",
   "name": "python",
   "nbconvert_exporter": "python",
   "pygments_lexer": "ipython3",
   "version": "3.11.5"
  }
 },
 "nbformat": 4,
 "nbformat_minor": 4
}
